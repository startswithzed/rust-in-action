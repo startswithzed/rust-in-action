{
 "cells": [
  {
   "cell_type": "markdown",
   "id": "e8d3b702",
   "metadata": {},
   "source": [
    "# Dynamic Memory Allocation\n",
    "\n",
    "At any given time a program has access to a fixed amount of memory. When it needs more memory it has to ask the OS. This is known as Dynamic Memory Allocation. It is a three step process:\n",
    "\n",
    "1. Request memory from the OS via a system call like `alloc()` for UNIX.\n",
    "2. Use the allocated memory in the program.\n",
    "3. Release the memeory that isn't needed back to the OS via `free()` for UNIX."
   ]
  },
  {
   "cell_type": "markdown",
   "id": "e9a51ef9",
   "metadata": {},
   "source": [
    "### The Allocator\n",
    "\n",
    "There is an intermediary between the program and the OS called the Allocator which is a program that is embedded in your program behind the scenes. It often performs optimizations that avoid lots of work within the OS and CPU. The follwing is the output from running the program `particle_generator` in the repo. It allocated memory of different sizes on the heap and keeps track of the time taken(in ns). Notice that the larger memory allocations do tend to take longer than shorter ones, it’s not guaranteed. "
   ]
  },
  {
   "cell_type": "code",
   "execution_count": 4,
   "id": "637c9d80",
   "metadata": {},
   "outputs": [],
   "source": [
    "let bytes_req = [5, 48, 9, 9, 19, 15, 16, 1, 12, 70, 22, 44, 94, 188, 96, 10, 68, 22, 44, 92, 184, 95, 190, 190, 126, 252, 504, 15]; \n",
    "let time_taken_ns = [620, 460, 500, 430, 200, 160, 80, 150, 430, 180, 350, 160, 340, 210, 100, 90, 140, 60, 90, 200, 3970, 130, 230, 200, 270, 320, 170, 150];"
   ]
  },
  {
   "cell_type": "code",
   "execution_count": 5,
   "id": "d41e6466",
   "metadata": {},
   "outputs": [],
   "source": [
    "// TODO('Draw scatter plot using the above data')"
   ]
  },
  {
   "cell_type": "markdown",
   "id": "e21f8eec",
   "metadata": {},
   "source": [
    "### Some General Strategies To Minimize Heap Allocations\n",
    "\n",
    "1. Using arrays of uninitialized objects. Keep in mind when using arrays with objects it can be a very dangerous strategy because you’re circumventing Rust’s lifetime checks.\n",
    "2. Using an allocator that is tuned for your application’s access memory profile.\n",
    "3. Investigate `arena::Arena` and `arena::TypedArena`. These allow objects to be created on the fly, but `alloc()` and `free()` are only called when the arena is created and destroyed."
   ]
  }
 ],
 "metadata": {
  "kernelspec": {
   "display_name": "Rust",
   "language": "rust",
   "name": "rust"
  },
  "language_info": {
   "codemirror_mode": "rust",
   "file_extension": ".rs",
   "mimetype": "text/rust",
   "name": "Rust",
   "pygment_lexer": "rust",
   "version": ""
  }
 },
 "nbformat": 4,
 "nbformat_minor": 5
}
