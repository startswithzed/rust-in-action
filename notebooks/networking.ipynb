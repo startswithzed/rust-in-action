{
 "cells": [
  {
   "attachments": {},
   "cell_type": "markdown",
   "metadata": {},
   "source": [
    "# Networking\n",
    "\n",
    "Networking is comprised of layers. The lower levels are unaware of what’s happening above them, and higher levels are agnostic to what’s happening below them. Lower levels receive a stream of bytes and pass it on. Higher levels don’t care how messages are sent; they just want them sent."
   ]
  },
  {
   "attachments": {},
   "cell_type": "markdown",
   "metadata": {},
   "source": [
    "## HTTP\n",
    "\n",
    "HTTP is an application-level protocol. Its job is to transport content like HTML, CSS, JavaScript, WebAssembly modules, images, video, and other formats. These formats often include other embedded formats via compression and encoding standards. HTTP itself often redundantly includes information provided by one of the layers below it, TCP. Between HTTP and TCP sits TLS. TLS (Transport Layer Security), which has replaced SSL (Secure Sockets Layer), adds the S to HTTPS.\n",
    "\n",
    "TLS provides encrypted messaging over an unencrypted connection. TLS is implemented on top of TCP. TCP sits upon many other protocols. These go all the way down to specifying how voltages should be interpreted as 0s and 1s.\n",
    "\n",
    "HTTP can make adjustments downwards to TCP. The `Connection: keep-alive` HTTP header instructs TCP to maintain its connection after this HTTP message has been received. These sorts of interactions occur all through the stack.\n"
   ]
  },
  {
   "attachments": {},
   "cell_type": "markdown",
   "metadata": {},
   "source": [
    "- HTTP has rules for telling each of the parties when the connection ends.\n",
    "- Data is transmitted as a byte stream. Rules for translating the message body from `[u8]` to String (or perhaps an image, video, or some other content) are handled as part of the protocol. This can be tedious to handle manually as HTTP allows content to be compressed into several methods and encoded into several plain text formats.\n",
    "- HTTP defaults to port 80."
   ]
  },
  {
   "attachments": {},
   "cell_type": "markdown",
   "metadata": {},
   "source": [
    "## TCP\n",
    "\n",
    "Rust’s standard library provides us with cross-platform tools for making TCP requests."
   ]
  },
  {
   "cell_type": "code",
   "execution_count": 14,
   "metadata": {},
   "outputs": [
    {
     "name": "stdout",
     "output_type": "stream",
     "text": [
      "HTTP/1.0 301 Moved Permanently\n",
      "Content-Type: text/html; charset=utf-8\n",
      "Location: https://www.rustinaction.com/\n",
      "Permissions-Policy: interest-cohort=()\n",
      "Vary: Origin\n",
      "Date: Fri, 24 Mar 2023 11:27:31 GMT\n",
      "Content-Length: 64\n",
      "\n",
      "<a href=\"https://www.rustinaction.com/\">Moved Permanently</a>.\n",
      "\n"
     ]
    }
   ],
   "source": [
    "use std::io::prelude::*;\n",
    "use std::net::TcpStream;\n",
    "\n",
    "let host = \"www.rustinaction.com:80\"; // explicitly specifying the port (80) is required. TcpStream does not know that this will become a HTTP request.\n",
    "let mut conn = TcpStream::connect(host)?;\n",
    "\n",
    "conn.write_all(b\"GET / HTTP/1.0\");\n",
    "conn.write_all(b\"\\r\\n\")?; // \\r\\n signifies a new line in many networking protocols\n",
    "\n",
    "conn.write_all(b\"Host: www.rustinaction.com\")?;\n",
    "conn.write_all(b\"\\r\\n\\r\\n\")?; // two blank new lines signify end of request\n",
    "\n",
    "std::io::copy(&mut conn, &mut std::io::stdout())?; // std::io::copy() streams bytes from a Reader to a Writer."
   ]
  },
  {
   "attachments": {},
   "cell_type": "markdown",
   "metadata": {},
   "source": [
    "We are using HTTP 1.0 to ensure that the connection is closed when the server sends its response. HTTP 1.0 does not support “keep alive” requests. Specifying HTTP 1.1 actually confuses this code as the server will refuse to close the connection until it has received another request, and the client will never send one.\n",
    "\n",
    "We have added `Host: www.rustinaction.com` because the connection is established over IP, which does not have host names. When `TcpStream::connect()` connects to the server, it only uses an IP address. Adding the Host HTTP header allows us to inject that information back into the context."
   ]
  },
  {
   "attachments": {},
   "cell_type": "markdown",
   "metadata": {},
   "source": [
    "### What Is A Port Number\n",
    "\n",
    "Port numbers are purely virtual. They are simply u16 values. Port numbers allow a single IP address to host multiple services."
   ]
  },
  {
   "attachments": {},
   "cell_type": "markdown",
   "metadata": {},
   "source": [
    "## Domain Name Resolution\n",
    "\n",
    "To send messages over the internet, the IP (internet protocol) address is required. TCP knows nothing about domain names. To convert a domain name to an IP address, we rely on the Domain Name System (DNS) and its process called domain name resolution.\n",
    "\n",
    "We’re able to resolve names by asking a server, which can recursively ask other servers. DNS requests can be made over TCP, including encryption with TLS, but are also sent over UDP (User Datagram Protocol). \n",
    "\n",
    "There are some public DNS providers. Their IP addresses are:\n",
    "- 1.1.1.1 and 1.0.0.1 by Cloudflare\n",
    "- 8.8.8.8 and 8.8.4.4. by Google\n",
    "- 9.9.9.9 by Quad9 (founded by IBM)\n",
    "- 64.6.64.6 and 64.6.65.6 by VeriSign"
   ]
  },
  {
   "attachments": {},
   "cell_type": "markdown",
   "metadata": {},
   "source": [
    "## How DNS supports connections within UDP\n",
    "\n",
    "UDP does not have a notion of long-lived connections. Unlike TCP, all messages are short-lived and one-way. Put another way, UDP does not support two-way (duplex) communications. But DNS requires a response to be sent from the DNS server back to the client.\n",
    "\n",
    "To enable two-way communications within UDP, both parties must act as clients and servers, depending on context. That context is defined by the protocol built on top of UDP. Within DNS, the client becomes a DNS server to receive the server’s reply. The following table provides a flow chart of the process.\n",
    "\n",
    "| Stage                        | DNS client role | DNS server role |\n",
    "| ---------------------------- | --------------- | --------------- |\n",
    "| Request sent from DNS client |    UDP client   |   UDP server    |\n",
    "| Reply sent from DNS server   |    UDP server   |   UDP client    |"
   ]
  },
  {
   "attachments": {},
   "cell_type": "markdown",
   "metadata": {},
   "source": [
    "## Mac Addresses\n",
    "\n",
    "The internet protocol enables devices to contact each other via their IP addresses. But that’s not all. Every hardware device also includes a unique identifier that’s independent of the network it’s connected to.\n",
    "\n",
    "Ethernet networking and the internet started life independently. Ethernet’s focus was on local area networks (LANs). The internet was developed to enable communication between networks, and Ethernet is the addressing system understood by devices that share a physical link (or a radio link in the case of WiFi, Bluetooth, and other wireless technologies).\n",
    "\n",
    "So, MAC (short for media access control ) addresses are used by devices that share electrons i.e. a physical link."
   ]
  },
  {
   "attachments": {},
   "cell_type": "markdown",
   "metadata": {},
   "source": [
    "There are a few differences between an IP address and a MAC address:\n",
    "\n",
    "1. IP addresses are hierarchical, but MAC addresses are not. Addresses appearing close together numerically are not close together physically, or organizationally.\n",
    "2. MAC addresses are 48 bits (6 bytes) wide. IP addresses are 32 bits (4 bytes) wide for IPv4 and 128 bits (16 bytes) for IPv6."
   ]
  },
  {
   "attachments": {},
   "cell_type": "markdown",
   "metadata": {},
   "source": [
    "There are two forms of MAC addresses:\n",
    "\n",
    "1. Universally administered (or universal) addresses are set when devices are manufactured. Manufacturers use a prefix assigned by the IEEE Registration Authority and a scheme of their choosing for the remaining bits.\n",
    "2. Locally administered (or local) addresses allow devices to create their own MAC addresses without registration. When setting a device’s MAC address yourself in software, you should make sure that your address is set to the local form."
   ]
  },
  {
   "attachments": {},
   "cell_type": "markdown",
   "metadata": {},
   "source": [
    "MAC addresses have two modes: unicast and multicast. The transmission behavior for these forms is identical. The distinction is made when a device makes a decision about whether to accept a frame. A frame is a term used by the Ethernet protocol for a byte slice at this level. Analogies to frame include a packet, wrapper, and envelope. \n",
    "\n",
    "Unicast addresses are intended to transport information between two points that are in direct contact (say, between a laptop and a router). Wireless access points complicate matters somewhat but don’t change the fundamentals. A multicast address can be accepted by multiple recipients, whereas unicast has a single recipient. The term unicast is somewhat misleading, though. Sending an Ethernet packet involves more than two devices. Using a unicast address alters what devices do when they receive packets but not which data is transmitted over the wire (or through the radio waves)."
   ]
  },
  {
   "attachments": {},
   "cell_type": "markdown",
   "metadata": {},
   "source": [
    ">Checkout project `macgen` to see an implementation of MAC address generator using Rust."
   ]
  }
 ],
 "metadata": {
  "kernelspec": {
   "display_name": "Rust",
   "language": "rust",
   "name": "rust"
  },
  "language_info": {
   "codemirror_mode": "rust",
   "file_extension": ".rs",
   "mimetype": "text/rust",
   "name": "rust",
   "pygment_lexer": "rust",
   "version": ""
  },
  "orig_nbformat": 4
 },
 "nbformat": 4,
 "nbformat_minor": 2
}
