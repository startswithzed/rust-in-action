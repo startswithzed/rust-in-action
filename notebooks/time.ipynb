{
 "cells": [
  {
   "attachments": {},
   "cell_type": "markdown",
   "metadata": {},
   "source": [
    "# Timekeeping In Computers"
   ]
  },
  {
   "attachments": {},
   "cell_type": "markdown",
   "metadata": {},
   "source": [
    "Each day isn't exactly 86,400 seconds. The length of each day fluctuates due to tidal friction with the moon and other effects such as torque at the boundary of the earth’s core and its mantle. Software does not tolerate these imperfections. Most systems assume that most seconds have an equal duration. The mismatch presents several problems."
   ]
  },
  {
   "attachments": {},
   "cell_type": "markdown",
   "metadata": {},
   "source": [
    "There are two options for resolving this impasse:\n",
    "\n",
    "1. Keep the length of each second fixed. This is good for computers but irritating for humans. Over time, “midday” drifts towards sunset or sunrise.\n",
    "2. Adjust the length of each year to keep the sun’s position relative to noon in the same place from year to year. This is good for humans but sometimes highly irritating for computers."
   ]
  },
  {
   "attachments": {},
   "cell_type": "markdown",
   "metadata": {},
   "source": [
    "The world’s atomic clocks use their own time zone with fixed-length seconds, called **TAI**. Everything else uses time zones that are periodically adjusted; these are called **UTC**.\n",
    "\n",
    "TAI is used by the world’s atomic clocks and maintains a fixed-length year. UTC adds leap seconds to TAI about once every 18 months."
   ]
  },
  {
   "attachments": {},
   "cell_type": "markdown",
   "metadata": {},
   "source": [
    "## Clocks In The Computer"
   ]
  },
  {
   "attachments": {},
   "cell_type": "markdown",
   "metadata": {},
   "source": [
    "There are (at least) two clocks running on your system. One is a battery-powered device, called the **real-time clock**. The other one is known as **system time**. System time increments itself based on hardware interrupts provided by the computer’s motherboard. A quartz crystal is oscillating rapidly somewhere in the system."
   ]
  },
  {
   "attachments": {},
   "cell_type": "markdown",
   "metadata": {},
   "source": [
    "Digital clocks consist of two main parts. \n",
    "\n",
    "1. The first part is some component that ticks at regular intervals. \n",
    "2. The second part is a pair of counters. One counter increments as ticks occur. The other increments as seconds occur. \n",
    "\n",
    "Determining “now” within digital clocks means comparing the number of seconds against some predetermined starting point. The starting point is known as the **epoch**."
   ]
  },
  {
   "attachments": {},
   "cell_type": "markdown",
   "metadata": {},
   "source": [
    "When your computer is turned off, a small battery powered clock continues to run. Its electric charge causes a quartz crystal to oscillate rapidly. The clock measures those oscillations and updates its internal counters.\n",
    "\n",
    "In a running computer, the CPU clock frequency becomes the source of regular ticks. A CPU core operates at a fixed frequency. Inside the hardware, a counter can be accessed via CPU instructions and/or by accessing predefined CPU registers."
   ]
  },
  {
   "attachments": {},
   "cell_type": "markdown",
   "metadata": {},
   "source": [
    "Relying on a CPU’s clock can actually cause problems in niche scientific and other high-accuracy domains, such as profiling an application’s behavior. \n",
    "\n",
    "When computers use multiple CPUs, which is especially common in high performance computing, each CPU has a slightly different clock rate. Moreover, CPUs perform out-of-order execution. This means that it’s impossible for someone creating a benchmarking/ profiling software suite to know how long a function takes between two timestamps. The CPU instructions requesting the current timestamp may have shifted."
   ]
  },
  {
   "attachments": {},
   "cell_type": "markdown",
   "metadata": {},
   "source": [
    "## Some Definitions\n",
    "\n",
    "- **Real-time clock** — A physical clock that’s embedded in the computer’s motherboard, which keeps time when the power is off. It’s also known as the CMOS clock.\n",
    "- **System clock** — The operating system’s view of the time. Upon boot, the OS takes over timekeeping duties from the real-time clock. All applications derive their idea of time from the system time. The system clock experiences jumps, as it can be manually set to a different position. This jumpiness can confuse some applications.\n",
    "- **Monotonically increasing** — A clock that never provides the same time twice. The system clock is not monotonically increasing.\n",
    "- **Steady clock** — This clock provides two guarantees: its seconds are all equal length and it is monotonically increasing. Although potentially useless for knowing the absolute time, these are handy for calculating the duration between two points in time.\n",
    "- **High accuracy** — A clock is highly accurate if the length of its seconds are regular. The difference between two clocks is known as skew. Highly accurate clocks have little skew against the atomic clocks that are humanity’s best engineering effort at keeping accurate time.\n",
    "- **High resolution** — Provides accuracy down to 10 nanoseconds or below. High resolution clocks are typically implemented within CPU chips. Their units of work are measured in cycles, and cycles have the same duration. A 1 GHz CPU core takes 1 nanosecond to compute one cycle."
   ]
  },
  {
   "attachments": {},
   "cell_type": "markdown",
   "metadata": {},
   "source": [
    "## Encoding Time "
   ]
  },
  {
   "attachments": {},
   "cell_type": "markdown",
   "metadata": {},
   "source": [
    "There are many ways to represent time within a computer. The typical approach is to use a pair of 32-bit integers. The first counts the number of seconds that have elapsed. The second represents a fraction of a second. The precision of the fractional part depends on the device in question.\n",
    "\n",
    "The starting point is arbitrary. The most common epoch in UNIX-based systems is 1 Jan 1970 UTC. Using fixed-width integers presents two key advantages and two main challenges:"
   ]
  },
  {
   "attachments": {},
   "cell_type": "markdown",
   "metadata": {},
   "source": [
    "### Advantages:\n",
    "\n",
    "- Simplicity — It’s easy to understand the format.\n",
    "– Efficiency — Integer arithmetic is the CPU’s favorite activity.\n",
    "\n",
    "### Challenges:\n",
    "\n",
    "- Fixed-range — All fixed-integer types are finite, implying that time eventually wraps around to 0 again.\n",
    "– Imprecise — Integers are discrete, while time is continuous. Different systems make different trade-offs relating to subsecond accuracy, leading to rounding errors."
   ]
  },
  {
   "attachments": {},
   "cell_type": "markdown",
   "metadata": {},
   "source": [
    "## Time Zones\n",
    "\n",
    "Time zones are political divisions, rather than technical ones. A soft consensus appears to have been formed around storing another integer that represents the number of seconds offset from UTC.\n"
   ]
  },
  {
   "attachments": {},
   "cell_type": "markdown",
   "metadata": {},
   "source": [
    "> An application gets time information from the OS, usually functionally provided by the system’s libc implementation."
   ]
  },
  {
   "attachments": {},
   "cell_type": "markdown",
   "metadata": {},
   "source": [
    "## Time Formats\n",
    "\n",
    "Here are three time formats:\n",
    "\n",
    "1. `timestamp` — Formats the number of seconds since the epoch, also known as a UNIX timestamp.\n",
    "\n",
    "2. `rfc2822` — Corresponds to RPC 2822 which is how time is formatted within email message headers.\n",
    "\n",
    "3. `rfc3339` — Corresponds to RFC 3339. RFC 3339 formats time in a way that is more commonly associated with the ISO 8601 standard. However, ISO 8601 is a slightly stricter standard. Every RFC 3339- compliant timestamp is an ISO 8601-compliant timestamp, but the inverse is not true."
   ]
  }
 ],
 "metadata": {
  "kernelspec": {
   "display_name": "Rust",
   "language": "rust",
   "name": "rust"
  },
  "language_info": {
   "name": "rust"
  },
  "orig_nbformat": 4
 },
 "nbformat": 4,
 "nbformat_minor": 2
}
