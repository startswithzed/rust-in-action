{
 "cells": [
  {
   "attachments": {},
   "cell_type": "markdown",
   "metadata": {},
   "source": [
    "# Timekeeping In Computers"
   ]
  },
  {
   "attachments": {},
   "cell_type": "markdown",
   "metadata": {},
   "source": [
    "Each day isn't exactly 86,400 seconds. The length of each day fluctuates due to tidal friction with the moon and other effects such as torque at the boundary of the earth’s core and its mantle. Software does not tolerate these imperfections. Most systems assume that most seconds have an equal duration. The mismatch presents several problems."
   ]
  },
  {
   "attachments": {},
   "cell_type": "markdown",
   "metadata": {},
   "source": [
    "There are two options for resolving this impasse:\n",
    "\n",
    "1. Keep the length of each second fixed. This is good for computers but irritating for humans. Over time, “midday” drifts towards sunset or sunrise.\n",
    "2. Adjust the length of each year to keep the sun’s position relative to noon in the same place from year to year. This is good for humans but sometimes highly irritating for computers."
   ]
  },
  {
   "attachments": {},
   "cell_type": "markdown",
   "metadata": {},
   "source": [
    "The world’s atomic clocks use their own time zone with fixed-length seconds, called **TAI**. Everything else uses time zones that are periodically adjusted; these are called **UTC**.\n",
    "\n",
    "TAI is used by the world’s atomic clocks and maintains a fixed-length year. UTC adds leap seconds to TAI about once every 18 months."
   ]
  },
  {
   "attachments": {},
   "cell_type": "markdown",
   "metadata": {},
   "source": [
    "## Clocks In The Computer"
   ]
  },
  {
   "attachments": {},
   "cell_type": "markdown",
   "metadata": {},
   "source": [
    "There are (at least) two clocks running on your system. One is a battery-powered device, called the **real-time clock**. The other one is known as **system time**. System time increments itself based on hardware interrupts provided by the computer’s motherboard. A quartz crystal is oscillating rapidly somewhere in the system."
   ]
  },
  {
   "attachments": {},
   "cell_type": "markdown",
   "metadata": {},
   "source": [
    "Digital clocks consist of two main parts. \n",
    "\n",
    "1. The first part is some component that ticks at regular intervals. \n",
    "2. The second part is a pair of counters. One counter increments as ticks occur. The other increments as seconds occur. \n",
    "\n",
    "Determining “now” within digital clocks means comparing the number of seconds against some predetermined starting point. The starting point is known as the **epoch**."
   ]
  },
  {
   "attachments": {},
   "cell_type": "markdown",
   "metadata": {},
   "source": [
    "When your computer is turned off, a small battery powered clock continues to run. Its electric charge causes a quartz crystal to oscillate rapidly. The clock measures those oscillations and updates its internal counters.\n",
    "\n",
    "In a running computer, the CPU clock frequency becomes the source of regular ticks. A CPU core operates at a fixed frequency. Inside the hardware, a counter can be accessed via CPU instructions and/or by accessing predefined CPU registers."
   ]
  },
  {
   "attachments": {},
   "cell_type": "markdown",
   "metadata": {},
   "source": [
    "Relying on a CPU’s clock can actually cause problems in niche scientific and other high-accuracy domains, such as profiling an application’s behavior. \n",
    "\n",
    "When computers use multiple CPUs, which is especially common in high performance computing, each CPU has a slightly different clock rate. Moreover, CPUs perform out-of-order execution. This means that it’s impossible for someone creating a benchmarking/ profiling software suite to know how long a function takes between two timestamps. The CPU instructions requesting the current timestamp may have shifted."
   ]
  },
  {
   "attachments": {},
   "cell_type": "markdown",
   "metadata": {},
   "source": [
    "## Some Definitions\n",
    "\n",
    "- **Real-time clock** — A physical clock that’s embedded in the computer’s motherboard, which keeps time when the power is off. It’s also known as the CMOS clock.\n",
    "- **System clock** — The operating system’s view of the time. Upon boot, the OS takes over timekeeping duties from the real-time clock. All applications derive their idea of time from the system time. The system clock experiences jumps, as it can be manually set to a different position. This jumpiness can confuse some applications.\n",
    "- **Monotonically increasing** — A clock that never provides the same time twice. The system clock is not monotonically increasing.\n",
    "- **Steady clock** — This clock provides two guarantees: its seconds are all equal length and it is monotonically increasing. Although potentially useless for knowing the absolute time, these are handy for calculating the duration between two points in time.\n",
    "- **High accuracy** — A clock is highly accurate if the length of its seconds are regular. The difference between two clocks is known as skew. Highly accurate clocks have little skew against the atomic clocks that are humanity’s best engineering effort at keeping accurate time.\n",
    "- **High resolution** — Provides accuracy down to 10 nanoseconds or below. High resolution clocks are typically implemented within CPU chips. Their units of work are measured in cycles, and cycles have the same duration. A 1 GHz CPU core takes 1 nanosecond to compute one cycle."
   ]
  }
 ],
 "metadata": {
  "kernelspec": {
   "display_name": "Rust",
   "language": "rust",
   "name": "rust"
  },
  "language_info": {
   "name": "rust"
  },
  "orig_nbformat": 4
 },
 "nbformat": 4,
 "nbformat_minor": 2
}
