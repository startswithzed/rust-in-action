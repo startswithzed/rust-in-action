{
 "cells": [
  {
   "cell_type": "markdown",
   "id": "2d4a52b5",
   "metadata": {},
   "source": [
    "# File Formats\n",
    "\n",
    "Storage media like hard disk drives work faster when reading or writing large blocks of data in serial. File formats are standards for working with data as an single, ordered sequence of bytes.\n",
    "\n",
    "File formats manage trade-offs between performance, human readability, and portability. "
   ]
  }
 ],
 "metadata": {
  "kernelspec": {
   "display_name": "Rust",
   "language": "rust",
   "name": "rust"
  },
  "language_info": {
   "codemirror_mode": "rust",
   "file_extension": ".rs",
   "mimetype": "text/rust",
   "name": "Rust",
   "pygment_lexer": "rust",
   "version": ""
  }
 },
 "nbformat": 4,
 "nbformat_minor": 5
}
