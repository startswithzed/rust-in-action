{
 "cells": [
  {
   "cell_type": "markdown",
   "id": "51efae1e",
   "metadata": {},
   "source": [
    "# Pointers, References and Boxes"
   ]
  },
  {
   "cell_type": "code",
   "execution_count": 3,
   "id": "7fa4bb34",
   "metadata": {},
   "outputs": [],
   "source": [
    "use std::mem::size_of;"
   ]
  },
  {
   "cell_type": "code",
   "execution_count": 4,
   "id": "e608f9cf",
   "metadata": {},
   "outputs": [],
   "source": [
    "static B: [u8; 10] = [99, 97, 114, 114, 121, 116, 111, 119, 101, 108];\n",
    "static C: [u8; 11] = [116, 104, 97, 110, 107, 115, 102, 105, 115, 104, 0];"
   ]
  },
  {
   "cell_type": "code",
   "execution_count": 5,
   "id": "5c740e96",
   "metadata": {},
   "outputs": [],
   "source": [
    "let a: usize = 42;\n",
    "let b: &[u8; 10] = &B; // reference\n",
    "let c: Box<[u8]> = Box::new(C); // boxed byte slice. Ownership of values inside the box moves to owner of the box"
   ]
  },
  {
   "cell_type": "code",
   "execution_count": 11,
   "id": "adfd4500",
   "metadata": {},
   "outputs": [
    {
     "name": "stdout",
     "output_type": "stream",
     "text": [
      "a (an unsigned integer): \n",
      " location: 0x16f7edf98\n",
      " size:     8 bytes\n",
      " value:    42\n",
      "\n"
     ]
    }
   ],
   "source": [
    "println!(\"a (an unsigned integer): \");\n",
    "println!(\" location: {:p}\", &a);\n",
    "println!(\" size:     {:?} bytes\", size_of::<usize>());\n",
    "println!(\" value:    {:?}\", a);\n",
    "println!();"
   ]
  },
  {
   "cell_type": "code",
   "execution_count": 12,
   "id": "5a2e0fd9",
   "metadata": {},
   "outputs": [
    {
     "name": "stdout",
     "output_type": "stream",
     "text": [
      "b (a reference to B): \n",
      " location:  0x16f7edf98\n",
      " size:      8 bytes\n",
      " points to: 0x101aab7fa\n",
      "\n"
     ]
    }
   ],
   "source": [
    "println!(\"b (a reference to B): \");\n",
    "println!(\" location:  {:p}\", &b);\n",
    "println!(\" size:      {:?} bytes\", size_of::<&[u8; 10]>());\n",
    "println!(\" points to: {:p}\", b);\n",
    "println!();"
   ]
  },
  {
   "cell_type": "code",
   "execution_count": 8,
   "id": "977cd706",
   "metadata": {},
   "outputs": [
    {
     "name": "stdout",
     "output_type": "stream",
     "text": [
      "c (a 'box' for C): \n",
      " location:  0x16f7edfa0\n",
      " size:      16 bytes\n",
      " points to: 0x600002bb4000\n",
      "\n"
     ]
    }
   ],
   "source": [
    "println!(\"c (a 'box' for C): \");\n",
    "println!(\" location:  {:p}\", &c);\n",
    "println!(\" size:      {:?} bytes\", size_of::<Box<[u8]>>());\n",
    "println!(\" points to: {:p}\", c);\n",
    "println!();"
   ]
  },
  {
   "cell_type": "code",
   "execution_count": 9,
   "id": "98a9c375",
   "metadata": {},
   "outputs": [
    {
     "name": "stdout",
     "output_type": "stream",
     "text": [
      "B (an array of 10 bytes):\n",
      " location: 0x101aeb24d\n",
      " size: 10 bytes\n",
      " value: [99, 97, 114, 114, 121, 116, 111, 119, 101, 108]\n",
      "\n"
     ]
    }
   ],
   "source": [
    "println!(\"B (an array of 10 bytes):\");\n",
    "println!(\" location: {:p}\", &B);\n",
    "println!(\" size: {:?} bytes\", size_of::<[u8; 10]>()); println!(\" value: {:?}\", B);\n",
    "println!();"
   ]
  },
  {
   "cell_type": "code",
   "execution_count": 10,
   "id": "b0e7d8c3",
   "metadata": {},
   "outputs": [
    {
     "name": "stdout",
     "output_type": "stream",
     "text": [
      "C (an array of 11 bytes):\n",
      " location: 0x101afb25d\n",
      " size: 11 bytes\n",
      " value: [116, 104, 97, 110, 107, 115, 102, 105, 115, 104, 0]\n"
     ]
    }
   ],
   "source": [
    "println!(\"C (an array of 11 bytes):\");\n",
    "println!(\" location: {:p}\", &C);\n",
    "println!(\" size: {:?} bytes\", size_of::<[u8; 11]>()); println!(\" value: {:?}\", C);"
   ]
  },
  {
   "cell_type": "markdown",
   "id": "48a41096",
   "metadata": {},
   "source": [
    "## Raw Pointers In Rust\n",
    "\n",
    "A raw pointer is just a memory address without Rust's safety guarantees. Unlike references they can be null. Rust references compile down to raw pointers. Pointers are just integers that reperesent a location in virtual memory. The process of fetching data from RAM from a pointer is known as dereferencing a pointer."
   ]
  },
  {
   "cell_type": "code",
   "execution_count": 15,
   "id": "4a6710d6",
   "metadata": {},
   "outputs": [
    {
     "name": "stdout",
     "output_type": "stream",
     "text": [
      "value of a: 42\n",
      "raw pointer to a: (0x16f7edf20)\n"
     ]
    }
   ],
   "source": [
    "let a: i64 = 42;\n",
    "let a_ptr = &a as *const i64; // initialize a raw pointer\n",
    "println!(\"value of a: {}\\nraw pointer to a: ({:p})\", a, a_ptr);"
   ]
  },
  {
   "cell_type": "code",
   "execution_count": 16,
   "id": "f16e53f7",
   "metadata": {},
   "outputs": [
    {
     "name": "stdout",
     "output_type": "stream",
     "text": [
      "a: 42 (0x16f7edf08...0x16f7edf0f)\n"
     ]
    }
   ],
   "source": [
    "// identifying a value's address\n",
    "let a: i64 = 42;\n",
    "let a_ptr = &a as *const i64;\n",
    "let a_addr: usize = unsafe {\n",
    "    std::mem::transmute(a_ptr)\n",
    "};\n",
    "println!(\"a: {} ({:p}...0x{:x})\", a, a_ptr, a_addr + 7);"
   ]
  },
  {
   "cell_type": "code",
   "execution_count": 24,
   "id": "05bef074",
   "metadata": {},
   "outputs": [
    {
     "name": "stdout",
     "output_type": "stream",
     "text": [
      "size of raw pointer: 24\n",
      "pointer moved from 0x2a to -> 0x8a\n"
     ]
    }
   ],
   "source": [
    "// we can create a pointer of arbitrary type from any integer\n",
    "let ptr = 42 as *const Vec<String>; // i32 is not a vec but it still works\n",
    "println!(\"size of raw pointer: {:?}\", size_of::<Vec<String>>());\n",
    "\n",
    "unsafe {\n",
    "    let new_addr = ptr.offset(4);\n",
    "    println!(\"pointer moved from {:p} to -> {:p}\", ptr, new_addr);\n",
    "};"
   ]
  },
  {
   "cell_type": "markdown",
   "id": "6e860290",
   "metadata": {},
   "source": [
    "### Unsafe Nature Of Raw Pointers:\n",
    "1. They don't own their values. The compiler does not check that the referenced data is still valid when these are accessed.\n",
    "2. Multiple raw pointers to the same data are allowed."
   ]
  },
  {
   "cell_type": "code",
   "execution_count": null,
   "id": "a2949b69",
   "metadata": {},
   "outputs": [],
   "source": []
  }
 ],
 "metadata": {
  "kernelspec": {
   "display_name": "Rust",
   "language": "rust",
   "name": "rust"
  },
  "language_info": {
   "codemirror_mode": "rust",
   "file_extension": ".rs",
   "mimetype": "text/rust",
   "name": "Rust",
   "pygment_lexer": "rust",
   "version": ""
  }
 },
 "nbformat": 4,
 "nbformat_minor": 5
}
