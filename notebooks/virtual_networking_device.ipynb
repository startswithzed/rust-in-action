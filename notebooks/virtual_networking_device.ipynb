{
 "cells": [
  {
   "attachments": {},
   "cell_type": "markdown",
   "metadata": {},
   "source": [
    "# Virtual Networking Device In Linux\n",
    "\n",
    "Integrating with the raw TCP packets typically requires root/superuser access. To get around this (on Linux) we can create a proxy device that non-super users are allowed to communicate with directly.\n",
    "\n",
    "Why use a virtual hardware device (TAP device)?\n",
    "\n",
    "1. Using virtual hardware provides more control to freely assign IP and MAC addresses. \n",
    "2. It also avoids changing your hardware settings, which could affect its ability to connect to the network."
   ]
  },
  {
   "attachments": {},
   "cell_type": "markdown",
   "metadata": {},
   "source": [
    "## Creating A Virtual Device\n",
    "\n",
    "To create a TAP device called tap-rust, execute the following command in your Linux console:\n",
    "\n",
    "`sudo ip tuntap add mode tap name tap-rust user $USER`\n",
    "\n",
    "- `sudo` executes command as root user.\n",
    "- `ip tuntap` tells ip that we're managing TUN/TAP devices.\n",
    "- `mode tap` uses the TUN tunneling mode.\n",
    "- `name tap-rust` gives the device a unique name.\n",
    "- `user $USER` grants access to your non-root user account.\n",
    "\n",
    "To confirm that our tap-rust device was added, we can use the `ip tuntap list` subcommand."
   ]
  },
  {
   "attachments": {},
   "cell_type": "markdown",
   "metadata": {},
   "source": [
    "## Allocate An IP Address To The Device\n",
    "\n",
    "We need to allocate an IP address to our device and tell our system to forward packets to it. The following command establishes a network device called tap-rust and activates it:\n",
    "\n",
    "`sudo ip link set tap-rust up`\n",
    "\n",
    "This command assigns the IP address 192.168.42.100 to the device:\n",
    "\n",
    "`sudo ip addr add 192.168.42.100/24 dev tap-rust`\n",
    "\n",
    "The following command enables internet packets to reach the source IP address mask (-s 192.168.42.100/24) by appending a rule (-A POSTROUTING) that dynamically maps IP addresses to a device (-j MASQUERADE):\n",
    "\n",
    "`sudo iptables -t nat -A POSTROUTING -s 192.168.42.0/24 -j MASQUERADE`\n",
    "\n",
    "This command instructs the kernel to enable IPv4 packet forwarding:\n",
    "\n",
    "`sudo sysctl net.ipv4.ip_forward=1`"
   ]
  },
  {
   "attachments": {},
   "cell_type": "markdown",
   "metadata": {},
   "source": [
    "## Removing The Virtual Device\n",
    "\n",
    "`sudo ip tuntap del mode tap name tap-rust`"
   ]
  }
 ],
 "metadata": {
  "language_info": {
   "name": "python"
  },
  "orig_nbformat": 4
 },
 "nbformat": 4,
 "nbformat_minor": 2
}
