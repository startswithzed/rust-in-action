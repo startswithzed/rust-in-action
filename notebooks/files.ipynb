{
 "cells": [
  {
   "cell_type": "markdown",
   "id": "2d4a52b5",
   "metadata": {},
   "source": [
    "# Files\n",
    "\n",
    "Files are an abstraction that’s maintained by the operating system (OS). It presents a façade of names and hierarchy above a nest of raw bytes. Files also provide a layer of security. These have attached permissions that the OS enforces.\n",
    "\n",
    "## File Formats\n",
    "\n",
    "Storage media like hard disk drives work faster when reading or writing large blocks of data in serial. File formats are standards for working with data as an single, ordered sequence of bytes.\n",
    "\n",
    "File formats manage trade-offs between performance, human readability, and portability. "
   ]
  },
  {
   "cell_type": "markdown",
   "id": "23355edc",
   "metadata": {},
   "source": [
    "## Accessing Files\n",
    "\n",
    "`std::fs::File` is the primary type for interacting with the filesystem. There are two methods available for creating a file: `open()` and `create()`. When you require more control, `std::fs::OpenOptions` is available."
   ]
  },
  {
   "cell_type": "markdown",
   "id": "afe23b0a",
   "metadata": {},
   "source": [
    "## Interacting With The Filesystem In A Type-safe Manner\n",
    "\n",
    "Rust provides type-safe variants of `str` and `String` in its standard library: `std::path::Path` and `std::path::PathBuf`. You can use these variants to unambiguously work with path separators in a cross-platform way. Path can address files, directories, and related abstractions, such as symbolic links."
   ]
  },
  {
   "cell_type": "code",
   "execution_count": 10,
   "id": "0c724157",
   "metadata": {
    "vscode": {
     "languageId": "rust"
    }
   },
   "outputs": [
    {
     "name": "stdout",
     "output_type": "stream",
     "text": [
      "Some(\"txt\")\n"
     ]
    }
   ],
   "source": [
    "use std::path::PathBuf;\n",
    "\n",
    "let hello = PathBuf::from(\"/tmp/hello.txt\");\n",
    "println!(\"{:?}\", hello.extension());"
   ]
  },
  {
   "cell_type": "markdown",
   "id": "341b1fa7",
   "metadata": {},
   "source": [
    "## What Is EOF?\n",
    "The end of file (EOF) is a convention that operating systems provide to applications. There is no special marker or delimiter at the end of a file within the file itself. EOF is a zero byte (0u8).\n",
    "\n",
    "When reading from a file, the OS tells the application how many bytes were successfully read from storage. If no bytes were successfully read from disk, yet no error condition was detected, then the OS and, therefore, the application assume that EOF has been reached.\n",
    "\n",
    "This works because the OS has the responsibility for interacting with physical devices. When a file is read by an application, the application notifies the OS that it would like to access the disk."
   ]
  },
  {
   "cell_type": "markdown",
   "id": "b3ec59c9",
   "metadata": {},
   "source": [
    "## Bitcask Storage Format\n",
    "\n",
    "Bitcask storage backend that was developed for the original implementation of the Riak database, a NoSQL database. Bitcask lays every record in a prescribed manner. It's comprised of three parts:\n",
    "\n",
    "1. Fixed width header:\n",
    "    - checksum: `u32`\n",
    "    - key_len: `u32`\n",
    "    - value_len: `u32`\n",
    "2. Variable width key: `[u8; <key_len>]`    \n",
    "3. Variable width value: `[u8; <value_len>]`\n",
    "\n",
    "\n",
    "To parse a record, the header information is read, then that information is used to read the body. Lastly, the body's contents are verified with the checksum in the header."
   ]
  },
  {
   "attachments": {},
   "cell_type": "markdown",
   "id": "af993761",
   "metadata": {},
   "source": [
    "## Writing Multi-Byte Binary Data To Disk\n",
    "\n",
    "Computing platforms differ as to how numbers are read. Some read the 4 bytes of an i32 from left to right; others read from right to left. That could potentially be a problem if the program is designed to be written by one computer and loaded by another.\n",
    "\n",
    "Rust ecosystem provides some options. The `byteorder` crate can extend types that implement the standard library’s `std::io::Read` and `std::io::Write traits`. The extensions can guarantee how multi-byte sequences are interpreted, either as little endian or big endian.\n",
    "\n",
    "### Byteorder Crate\n",
    "\n",
    "`byteorder::LittleEndian` and its peers `BigEndian` and `NativeEndian` are types that declare how multi-byte data is written to and read from disk. Checkout demo project `byte_order_explorer` to see how to use `byteorder` crate. "
   ]
  },
  {
   "attachments": {},
   "cell_type": "markdown",
   "id": "e4052111",
   "metadata": {},
   "source": [
    "## Validating I/O Errors With Checksums\n",
    "\n",
    "Checksum can come in handy to validate what the program has read from the disk and what it has written to the disk.\n",
    "\n",
    "1. Saving to disk: Before data is written to disk, a checking function is applied to those bytes. The result of the checking function (the checksum) is written alongside the original data. No checksum is calculated for the bytes of the checksum. If something breaks while writing the checksum’s own bytes to disk, this will be noticed later as an error.\n",
    "2. Reading from disk: Read the data and the saved checksum, applying the checking function to the data. Then compare the results of the two checking functions. If the two results do not match, an error has occurred, and the data should be considered corrupted."
   ]
  },
  {
   "attachments": {},
   "cell_type": "markdown",
   "id": "66ff22bd",
   "metadata": {},
   "source": [
    "### Checksum Function\n",
    "\n",
    "An ideal checksum function would:\n",
    "\n",
    "-  Return the same result for the same input\n",
    "- Always return a different result for different inputs \n",
    "- Be fast\n",
    "- Be easy to implement\n",
    "\n",
    "We'll use parity bit checking in `ActionKV`."
   ]
  },
  {
   "attachments": {},
   "cell_type": "markdown",
   "id": "e518f86b",
   "metadata": {},
   "source": [
    "### Parity Bit Checking\n",
    "\n",
    "Parity checks count the number of 1s within a bitstream. These store a bit that indicates whether the count was even or odd.\n",
    "\n",
    "Parity bits are traditionally used for error detection within noisy communication systems, such as transmitting data over analog systems such as radio waves. \n",
    "\n",
    "Below is an implementation of the `parity_bit()` function that takes an arbitrary stream of bytes and returns a `u8`, indicating whether the count of the input’s bits was even or odd. "
   ]
  },
  {
   "cell_type": "code",
   "execution_count": 2,
   "id": "207ae827",
   "metadata": {
    "vscode": {
     "languageId": "rust"
    }
   },
   "outputs": [],
   "source": [
    "fn parity_bit(bytes: &[u8]) -> u8 {\n",
    "    let mut n_ones: u32 = 0;\n",
    "\n",
    "    for byte in bytes {\n",
    "        let ones  = byte.count_ones();\n",
    "        n_ones += ones;\n",
    "        println!(\"{} (0b{:08b}) has {} one bits\", byte, byte, ones);\n",
    "    }\n",
    "\n",
    "    (n_ones % 2 == 0) as u8\n",
    "}"
   ]
  },
  {
   "cell_type": "code",
   "execution_count": 4,
   "id": "2009bca8",
   "metadata": {
    "vscode": {
     "languageId": "rust"
    }
   },
   "outputs": [
    {
     "name": "stdout",
     "output_type": "stream",
     "text": [
      "input: [97, 98, 99]\n"
     ]
    },
    {
     "name": "stdout",
     "output_type": "stream",
     "text": [
      "97 (0b01100001) has 3 one bits\n",
      "98 (0b01100010) has 3 one bits\n",
      "99 (0b01100011) has 4 one bits\n",
      "output: 00000001\n"
     ]
    }
   ],
   "source": [
    "let abc = b\"abc\";\n",
    "println!(\"input: {:?}\", abc);\n",
    "println!(\"output: {:08x}\", parity_bit(abc));"
   ]
  },
  {
   "cell_type": "code",
   "execution_count": 5,
   "id": "2a5d54a4",
   "metadata": {
    "vscode": {
     "languageId": "rust"
    }
   },
   "outputs": [
    {
     "name": "stdout",
     "output_type": "stream",
     "text": [
      "input: [97, 98, 99, 100]\n",
      "97 (0b01100001) has 3 one bits\n",
      "99 (0b01100011) has 4 one bits\n",
      "98 (0b01100010) has 3 one bits\n",
      "100 (0b01100100) has 3 one bits\n",
      "result: 00000000\n"
     ]
    },
    {
     "data": {
      "text/plain": [
       "()"
      ]
     },
     "execution_count": 5,
     "metadata": {},
     "output_type": "execute_result"
    }
   ],
   "source": [
    "let abcd = b\"abcd\";\n",
    "println!(\"input: {:?}\", abcd);\n",
    "println!(\"result: {:08x}\", parity_bit(abcd))"
   ]
  }
 ],
 "metadata": {
  "kernelspec": {
   "display_name": "Rust",
   "language": "rust",
   "name": "rust"
  },
  "language_info": {
   "codemirror_mode": "rust",
   "file_extension": ".rs",
   "mimetype": "text/rust",
   "name": "Rust",
   "pygment_lexer": "rust",
   "version": ""
  }
 },
 "nbformat": 4,
 "nbformat_minor": 5
}
