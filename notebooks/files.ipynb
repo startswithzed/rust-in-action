{
 "cells": [
  {
   "cell_type": "markdown",
   "id": "2d4a52b5",
   "metadata": {},
   "source": [
    "# Files\n",
    "\n",
    "Files are an abstraction that’s maintained by the operating system (OS). It presents a façade of names and hierarchy above a nest of raw bytes. Files also provide a layer of security. These have attached permissions that the OS enforces.\n",
    "\n",
    "## File Formats\n",
    "\n",
    "Storage media like hard disk drives work faster when reading or writing large blocks of data in serial. File formats are standards for working with data as an single, ordered sequence of bytes.\n",
    "\n",
    "File formats manage trade-offs between performance, human readability, and portability. "
   ]
  },
  {
   "cell_type": "markdown",
   "id": "23355edc",
   "metadata": {},
   "source": [
    "## Accessing Files\n",
    "\n",
    "`std::fs::File` is the primary type for interacting with the filesystem. There are two methods available for creating a file: `open()` and `create()`. When you require more control, `std::fs::OpenOptions` is available."
   ]
  },
  {
   "cell_type": "markdown",
   "id": "afe23b0a",
   "metadata": {},
   "source": [
    "## Interacting With The Filesystem In A Type-safe Manner\n",
    "\n",
    "Rust provides type-safe variants of `str` and `String` in its standard library: `std::path::Path` and `std::path::PathBuf`. You can use these variants to unambiguously work with path separators in a cross-platform way. Path can address files, directories, and related abstractions, such as symbolic links."
   ]
  },
  {
   "cell_type": "code",
   "execution_count": 10,
   "id": "e90d7ac9",
   "metadata": {},
   "outputs": [
    {
     "name": "stdout",
     "output_type": "stream",
     "text": [
      "Some(\"txt\")\n"
     ]
    }
   ],
   "source": [
    "use std::path::PathBuf;\n",
    "\n",
    "let hello = PathBuf::from(\"/tmp/hello.txt\");\n",
    "println!(\"{:?}\", hello.extension());"
   ]
  },
  {
   "cell_type": "code",
   "execution_count": null,
   "id": "c6bc837b",
   "metadata": {},
   "outputs": [],
   "source": []
  }
 ],
 "metadata": {
  "kernelspec": {
   "display_name": "Rust",
   "language": "rust",
   "name": "rust"
  },
  "language_info": {
   "codemirror_mode": "rust",
   "file_extension": ".rs",
   "mimetype": "text/rust",
   "name": "Rust",
   "pygment_lexer": "rust",
   "version": ""
  }
 },
 "nbformat": 4,
 "nbformat_minor": 5
}
