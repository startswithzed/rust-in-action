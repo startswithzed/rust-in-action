{
 "cells": [
  {
   "cell_type": "markdown",
   "id": "800d53b5",
   "metadata": {},
   "source": [
    "# Stack And Heap\n",
    "\n",
    "1. Stack is fast.\n",
    "2. Heap is slow.\n",
    "\n",
    "To place data onto the stack the compiler must know the type's size at compile time. In case of Rust these are the types that implement `sized`."
   ]
  },
  {
   "cell_type": "markdown",
   "id": "76f860ef",
   "metadata": {},
   "source": [
    "## The Stack\n",
    "\n",
    "The unit of the computing stack is the stack frame, aka allocation record.\n",
    "1. Stack contains two levels of objects: stack frames and data.\n",
    "2. Stack grants access to multiple elements stored in it than just the top item only.\n",
    "3. Stack can include items of arbitrary size.\n",
    "\n",
    "### Stack Frame\n",
    "Stack is called stack because the entries are made in LIFO manner. These entries are called stack frames. Stack frames are created as function calls are made. A cursor within the CPU keeps track of the current stack frame. It's called the stack pointer. Stack frames contain a function's state during the call. Older function's values are effectively frozen in time. The stack frame contains space for its function’s arguments, a pointer to the original call site, and local variables (except the data which is allocated on the heap).\n",
    "\n",
    "Stack's primary role is to make space for local variables. It's fast because all of a function's variables are side by side in memeory. That speeds up access."
   ]
  },
  {
   "cell_type": "markdown",
   "id": "1393f4ff",
   "metadata": {},
   "source": [
    "## The Heap\n",
    "\n",
    "The heap is an area of program memory for types that do not have known sizes at compile time. Other than types that grow and shrink in size at runtime, there are other types with unknown size at compile time known as dynamically sized types. Slices are a common example. Heap has no assicataion with the heap datastructure. It's just an area of memory. Heap is not completely disorganized in terms of memory alloction. There is some sense of organization.\n",
    "\n",
    "1. Variables on the heap must be accessed via a pointer.\n",
    "2. "
   ]
  },
  {
   "cell_type": "code",
   "execution_count": 4,
   "id": "d3861238",
   "metadata": {},
   "outputs": [
    {
     "name": "stdout",
     "output_type": "stream",
     "text": [
      "40 + 60 = 100\n"
     ]
    }
   ],
   "source": [
    "let a: i32 = 40; // lives on the stack\n",
    "let b: Box<i32> = Box::new(60); // lives on the heap\n",
    "println!(\"{} + {} = {}\", a, b, a + *b); // to access b we dereference it"
   ]
  },
  {
   "cell_type": "markdown",
   "id": "7780219a",
   "metadata": {},
   "source": [
    "### Allocating And Deallocating Memeory On The Heap\n",
    "\n",
    "1. `Box::new` allocates memory on the heap. The value lives on the heap with a pointer to it on the stack.\n",
    "2. `drop()` deletes objects before their scope ends. The memory allocation marks the location as free for reuse.\n",
    "3. Dereferencing a `Box` returns the enclosed `T` type."
   ]
  },
  {
   "cell_type": "code",
   "execution_count": 5,
   "id": "f4662f26",
   "metadata": {},
   "outputs": [
    {
     "name": "stdout",
     "output_type": "stream",
     "text": [
      "3 3\n"
     ]
    }
   ],
   "source": [
    "use std::mem::drop;\n",
    "\n",
    "// allocate values on the heap\n",
    "let a = Box::new(1);\n",
    "let b = Box::new(1);\n",
    "let c = Box::new(1);\n",
    "\n",
    "// deref operator returns the value within the box\n",
    "let result1 = *a + *b + *c; // sum is placed on the stack\n",
    "\n",
    "drop(a); // drop frees up memory\n",
    "\n",
    "let d = Box::new(1);\n",
    "let result2 = *b + *c + *d; \n",
    "\n",
    "println!(\"{} {}\", result1, result2);"
   ]
  },
  {
   "cell_type": "markdown",
   "id": "517d8526",
   "metadata": {},
   "source": [
    "The Stack grows downwards in the address space. The heap begins at the bottom of the address space plus an offset and grows upwards. The space in between is reserved for the program’s executable instructions and variables that last the lifetime of the program."
   ]
  },
  {
   "cell_type": "code",
   "execution_count": null,
   "id": "247baf17",
   "metadata": {},
   "outputs": [],
   "source": []
  }
 ],
 "metadata": {
  "kernelspec": {
   "display_name": "Rust",
   "language": "rust",
   "name": "rust"
  },
  "language_info": {
   "codemirror_mode": "rust",
   "file_extension": ".rs",
   "mimetype": "text/rust",
   "name": "Rust",
   "pygment_lexer": "rust",
   "version": ""
  }
 },
 "nbformat": 4,
 "nbformat_minor": 5
}
