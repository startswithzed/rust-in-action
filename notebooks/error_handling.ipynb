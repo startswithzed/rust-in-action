{
 "cells": [
  {
   "attachments": {},
   "cell_type": "markdown",
   "metadata": {},
   "source": [
    "# Ergonomic Error Handling In Rust"
   ]
  },
  {
   "attachments": {},
   "cell_type": "markdown",
   "metadata": {},
   "source": [
    "Returning a `Result<T, E>` works great when there is a single error type E. But things become more complicated when we want to work with multiple error types.\n",
    "\n",
    "Let’s look at a small example that covers the easy case of a single error type. We’ll try to open a file that does not exist."
   ]
  },
  {
   "cell_type": "code",
   "execution_count": 26,
   "metadata": {
    "vscode": {
     "languageId": "rust"
    }
   },
   "outputs": [
    {
     "name": "stderr",
     "output_type": "stream",
     "text": [
      "No such file or directory (os error 2)\n"
     ]
    }
   ],
   "source": [
    "use std::fs::File;\n",
    "\n",
    "let _f = File::open(\"invisible.txt\")?;"
   ]
  },
  {
   "attachments": {},
   "cell_type": "markdown",
   "metadata": {},
   "source": [
    "Now let’s introduce another error type in the same code."
   ]
  },
  {
   "cell_type": "code",
   "execution_count": 24,
   "metadata": {
    "vscode": {
     "languageId": "rust"
    }
   },
   "outputs": [
    {
     "ename": "Error",
     "evalue": "`?` couldn't convert the error to `std::io::Error`",
     "output_type": "error",
     "traceback": [
      "\u001b[31m[E0277] Error:\u001b[0m `?` couldn't convert the error to `std::io::Error`",
      "   \u001b[38;5;246m╭\u001b[0m\u001b[38;5;246m─\u001b[0m\u001b[38;5;246m[\u001b[0mcommand_24:1:1\u001b[38;5;246m]\u001b[0m",
      "   \u001b[38;5;246m│\u001b[0m",
      " \u001b[38;5;246m3 │\u001b[0m \u001b[38;5;249mf\u001b[0m\u001b[38;5;249mn\u001b[0m\u001b[38;5;249m \u001b[0m\u001b[38;5;249md\u001b[0m\u001b[38;5;249mu\u001b[0m\u001b[38;5;249mm\u001b[0m\u001b[38;5;249mm\u001b[0m\u001b[38;5;249my\u001b[0m\u001b[38;5;249m_\u001b[0m\u001b[38;5;249mm\u001b[0m\u001b[38;5;249ma\u001b[0m\u001b[38;5;249mi\u001b[0m\u001b[38;5;249mn\u001b[0m\u001b[38;5;249m(\u001b[0m\u001b[38;5;249m)\u001b[0m\u001b[38;5;249m \u001b[0m\u001b[38;5;249m-\u001b[0m\u001b[38;5;249m>\u001b[0m\u001b[38;5;249m \u001b[0m\u001b[38;5;54mR\u001b[0m\u001b[38;5;54me\u001b[0m\u001b[38;5;54ms\u001b[0m\u001b[38;5;54mu\u001b[0m\u001b[38;5;54ml\u001b[0m\u001b[38;5;54mt\u001b[0m\u001b[38;5;54m<\u001b[0m\u001b[38;5;54m(\u001b[0m\u001b[38;5;54m)\u001b[0m\u001b[38;5;54m,\u001b[0m\u001b[38;5;54m \u001b[0m\u001b[38;5;54ms\u001b[0m\u001b[38;5;54mt\u001b[0m\u001b[38;5;54md\u001b[0m\u001b[38;5;54m:\u001b[0m\u001b[38;5;54m:\u001b[0m\u001b[38;5;54mi\u001b[0m\u001b[38;5;54mo\u001b[0m\u001b[38;5;54m:\u001b[0m\u001b[38;5;54m:\u001b[0m\u001b[38;5;54mE\u001b[0m\u001b[38;5;54mr\u001b[0m\u001b[38;5;54mr\u001b[0m\u001b[38;5;54mo\u001b[0m\u001b[38;5;54mr\u001b[0m\u001b[38;5;54m>\u001b[0m\u001b[38;5;249m \u001b[0m\u001b[38;5;249m{\u001b[0m",
      " \u001b[38;5;246m  ·\u001b[0m                    \u001b[38;5;54m─\u001b[0m\u001b[38;5;54m─\u001b[0m\u001b[38;5;54m─\u001b[0m\u001b[38;5;54m─\u001b[0m\u001b[38;5;54m─\u001b[0m\u001b[38;5;54m─\u001b[0m\u001b[38;5;54m─\u001b[0m\u001b[38;5;54m─\u001b[0m\u001b[38;5;54m─\u001b[0m\u001b[38;5;54m─\u001b[0m\u001b[38;5;54m─\u001b[0m\u001b[38;5;54m─\u001b[0m\u001b[38;5;54m─\u001b[0m\u001b[38;5;54m┬\u001b[0m\u001b[38;5;54m─\u001b[0m\u001b[38;5;54m─\u001b[0m\u001b[38;5;54m─\u001b[0m\u001b[38;5;54m─\u001b[0m\u001b[38;5;54m─\u001b[0m\u001b[38;5;54m─\u001b[0m\u001b[38;5;54m─\u001b[0m\u001b[38;5;54m─\u001b[0m\u001b[38;5;54m─\u001b[0m\u001b[38;5;54m─\u001b[0m\u001b[38;5;54m─\u001b[0m\u001b[38;5;54m─\u001b[0m  ",
      " \u001b[38;5;246m  ·\u001b[0m                                 \u001b[38;5;54m╰\u001b[0m\u001b[38;5;54m─\u001b[0m\u001b[38;5;54m─\u001b[0m\u001b[38;5;54m─\u001b[0m\u001b[38;5;54m─\u001b[0m\u001b[38;5;54m─\u001b[0m\u001b[38;5;54m─\u001b[0m\u001b[38;5;54m─\u001b[0m\u001b[38;5;54m─\u001b[0m\u001b[38;5;54m─\u001b[0m\u001b[38;5;54m─\u001b[0m\u001b[38;5;54m─\u001b[0m\u001b[38;5;54m─\u001b[0m\u001b[38;5;54m─\u001b[0m\u001b[38;5;54m─\u001b[0m expected `std::io::Error` because of this",
      " \u001b[38;5;246m  ·\u001b[0m ",
      " \u001b[38;5;246m6 │\u001b[0m \u001b[38;5;249m \u001b[0m\u001b[38;5;249m \u001b[0m\u001b[38;5;249m \u001b[0m\u001b[38;5;249m \u001b[0m\u001b[38;5;249ml\u001b[0m\u001b[38;5;249me\u001b[0m\u001b[38;5;249mt\u001b[0m\u001b[38;5;249m \u001b[0m\u001b[38;5;249m_\u001b[0m\u001b[38;5;249ml\u001b[0m\u001b[38;5;249mo\u001b[0m\u001b[38;5;249mc\u001b[0m\u001b[38;5;249ma\u001b[0m\u001b[38;5;249ml\u001b[0m\u001b[38;5;249mh\u001b[0m\u001b[38;5;249mo\u001b[0m\u001b[38;5;249ms\u001b[0m\u001b[38;5;249mt\u001b[0m\u001b[38;5;249m \u001b[0m\u001b[38;5;249m=\u001b[0m\u001b[38;5;249m \u001b[0m\u001b[38;5;249m\"\u001b[0m\u001b[38;5;249m:\u001b[0m\u001b[38;5;249m:\u001b[0m\u001b[38;5;249m1\u001b[0m\u001b[38;5;249m\"\u001b[0m\u001b[38;5;249m.\u001b[0m\u001b[38;5;249mp\u001b[0m\u001b[38;5;249ma\u001b[0m\u001b[38;5;249mr\u001b[0m\u001b[38;5;249ms\u001b[0m\u001b[38;5;249me\u001b[0m\u001b[38;5;249m:\u001b[0m\u001b[38;5;249m:\u001b[0m\u001b[38;5;249m<\u001b[0m\u001b[38;5;249mI\u001b[0m\u001b[38;5;249mp\u001b[0m\u001b[38;5;249mv\u001b[0m\u001b[38;5;249m6\u001b[0m\u001b[38;5;249mA\u001b[0m\u001b[38;5;249md\u001b[0m\u001b[38;5;249md\u001b[0m\u001b[38;5;249mr\u001b[0m\u001b[38;5;249m>\u001b[0m\u001b[38;5;249m(\u001b[0m\u001b[38;5;249m)\u001b[0m\u001b[38;5;100m?\u001b[0m\u001b[38;5;249m;\u001b[0m",
      " \u001b[38;5;246m  ·\u001b[0m                                               \u001b[38;5;100m┬\u001b[0m  ",
      " \u001b[38;5;246m  ·\u001b[0m                                               \u001b[38;5;100m╰\u001b[0m\u001b[38;5;100m─\u001b[0m\u001b[38;5;100m─\u001b[0m the trait `From<AddrParseError>` is not implemented for `std::io::Error`",
      "\u001b[38;5;246m───╯\u001b[0m"
     ]
    }
   ],
   "source": [
    "use std::net::Ipv6Addr;\n",
    "\n",
    "fn dummy_main() -> Result<(), std::io::Error> {\n",
    "    let _f = File::open(\"invisible.txt\")?;\n",
    "\n",
    "    let _localhost = \"::1\".parse::<Ipv6Addr>()?;  \n",
    "\n",
    "    Ok(())  \n",
    "}\n",
    "\n",
    "dummy_main()"
   ]
  },
  {
   "attachments": {},
   "cell_type": "markdown",
   "metadata": {},
   "source": [
    "Why are there multiple messages about `std::convert::From` ? Well, the `?` operator is syntactic sugar for the `try!` macro. `try!` performs two functions:\n",
    "\n",
    "1. When it detects `Ok(value)`, the expression evaluates to value.\n",
    "2.  When `Err(err)` occurs, `try!/?` returns early after attempting to convert `err` to the `error` type defined in the calling function."
   ]
  },
  {
   "attachments": {},
   "cell_type": "markdown",
   "metadata": {},
   "source": [
    "In the above code block  we can see the try! macro in action as:\n",
    "\n",
    "1. `File::open()` returns `std::io::Error`, so no conversion is necessary.\n",
    "2. `.parse()` presents `?` with a `std::net::AddrParseError`. We don’t define how to convert `std::net::AddrParseError`\n",
    "to `std::io::Error`, so the program fails to compile.\n",
    "\n",
    "Because the signature of main is `main() ? Result<(), std::io ::Error>`, Rust attempts to convert the `std::net::AddrParseError` produced by `parse::<Ipv6Addr>()` into a `std::io::Error`."
   ]
  },
  {
   "attachments": {},
   "cell_type": "markdown",
   "metadata": {},
   "source": [
    "We can fix this error by using `Box<dyn Error>` as the error variant. The `dyn` keyword is short for dynamic, implying that there is a runtime cost for this flexibility."
   ]
  },
  {
   "cell_type": "code",
   "execution_count": 23,
   "metadata": {
    "vscode": {
     "languageId": "rust"
    }
   },
   "outputs": [
    {
     "data": {
      "text/plain": [
       "Err(Os { code: 2, kind: NotFound, message: \"No such file or directory\" })"
      ]
     },
     "execution_count": 23,
     "metadata": {},
     "output_type": "execute_result"
    }
   ],
   "source": [
    "use std::error::Error;\n",
    "\n",
    "fn dummy_main() -> Result<(), Box<dyn Error>> {\n",
    "    let _f = File::open(\"invisible.txt\")?;\n",
    "\n",
    "    let _localhost = \"::1\".parse::<Ipv6Addr>()?;  \n",
    "\n",
    "    Ok(())  \n",
    "}\n",
    "\n",
    "dummy_main()"
   ]
  },
  {
   "attachments": {},
   "cell_type": "markdown",
   "metadata": {},
   "source": [
    "We have managed to fix the error. By implementing a trait object in a return value to simplify error handling when errors originate from multiple upstream crates.\n",
    "\n",
    "Wrapping trait objects in `Box` is necessary because their size (in bytes on the stack) is unknown at compile time. The trait object might originate from either `File::open()` or `\"::1\".parse()`. What actually happens depends on the circumstances encountered at runtime."
   ]
  },
  {
   "attachments": {},
   "cell_type": "markdown",
   "metadata": {},
   "source": [
    "## Defining Our Own Error Type"
   ]
  },
  {
   "attachments": {},
   "cell_type": "markdown",
   "metadata": {},
   "source": [
    "Different dependencies define their own error types. Multiple error types in one function prevent returning `Result`. We can use trait objects, but trait objects have a potentially significant downside. Using trait objects is also known as **type erasure**. Rust is no longer aware that an error has originated upstream. Using `Box<dyn Error>` as the error variant of a Result means that the upstream error types are, in a sense, lost as the original errors are now converted to exactly the same type."
   ]
  },
  {
   "attachments": {},
   "cell_type": "markdown",
   "metadata": {},
   "source": [
    "It is possible to retain the upstream errors by bundling upstream errors in our own type. When the upstream errors are needed later (say, for reporting errors to the user), it’s possible to extract these with pattern matching. We can do so by:\n",
    "\n",
    "1. Define an enum that includes the upstream errors as variants.\n",
    "2. Annotate the enum with `#[derive(Debug)]`.\n",
    "3. Implement Display.\n",
    "4. Implement Error, which almost comes for free because we have implemented Debug and Display.\n",
    "5. Use `map_err()` in your code to convert the upstream error to your omnibus error type.\n",
    "\n",
    "There’s an optional extra step we can implement that improves the ergonomics. We need to implement `std::convert::From` to remove the need to call `map_err()`."
   ]
  },
  {
   "cell_type": "code",
   "execution_count": 16,
   "metadata": {
    "vscode": {
     "languageId": "rust"
    }
   },
   "outputs": [],
   "source": [
    "// define an enum that includes the upstream errors as variants\n",
    "use std::io;\n",
    "use std::net;\n",
    "\n",
    "#[derive(Debug)] \n",
    "enum UpstreamError {\n",
    "    IO(io::Error),\n",
    "    Parsing(net::AddrParseError)\n",
    "}"
   ]
  },
  {
   "cell_type": "code",
   "execution_count": 18,
   "metadata": {
    "vscode": {
     "languageId": "rust"
    }
   },
   "outputs": [],
   "source": [
    "use std::fmt;\n",
    "\n",
    "// implementing std::fmt::display\n",
    "impl fmt::Display for UpstreamError {\n",
    "    fn fmt(&self, f: &mut fmt::Formatter<'_>) -> fmt::Result {\n",
    "        write!(f, \"{:?}\", self) // implements Display in terms of Debug via the \"{:?}\" syntax\n",
    "    }\n",
    "}"
   ]
  },
  {
   "cell_type": "code",
   "execution_count": 19,
   "metadata": {
    "vscode": {
     "languageId": "rust"
    }
   },
   "outputs": [],
   "source": [
    "// implement std::error::Error\n",
    "use std::error;\n",
    "\n",
    "impl error::Error for UpstreamError { } // Defers to default method implementations. The compiler will fill in the blanks."
   ]
  },
  {
   "cell_type": "code",
   "execution_count": 21,
   "metadata": {
    "vscode": {
     "languageId": "rust"
    }
   },
   "outputs": [],
   "source": [
    "// using map_err()\n",
    "fn dummy_main() -> Result<(), UpstreamError> {\n",
    "    let _f = File::open(\"invisible.txt\")\n",
    "      .map_err(UpstreamError::IO)?;\n",
    "    \n",
    "    let _localhost = \"::1\".parse::<Ipv6Addr>()\n",
    "      .map_err(UpstreamError::Parsing)?;\n",
    "\n",
    "    Ok(()) \n",
    "}"
   ]
  },
  {
   "cell_type": "code",
   "execution_count": 22,
   "metadata": {
    "vscode": {
     "languageId": "rust"
    }
   },
   "outputs": [
    {
     "data": {
      "text/plain": [
       "Err(IO(Os { code: 2, kind: NotFound, message: \"No such file or directory\" }))"
      ]
     },
     "execution_count": 22,
     "metadata": {},
     "output_type": "execute_result"
    }
   ],
   "source": [
    "dummy_main()"
   ]
  },
  {
   "attachments": {},
   "cell_type": "markdown",
   "metadata": {},
   "source": [
    "The code compiles!. The `map_err()` function maps an error to a function. Variants of our UpstreamError enum can be used as functions here.  Note that the `?` operator needs to be at the end. Otherwise, the function can return before the code has a chance to convert the error."
   ]
  }
 ],
 "metadata": {
  "kernelspec": {
   "display_name": "Rust",
   "language": "rust",
   "name": "rust"
  },
  "language_info": {
   "codemirror_mode": "rust",
   "file_extension": ".rs",
   "mimetype": "text/rust",
   "name": "Rust",
   "pygment_lexer": "rust",
   "version": ""
  },
  "orig_nbformat": 4
 },
 "nbformat": 4,
 "nbformat_minor": 2
}
